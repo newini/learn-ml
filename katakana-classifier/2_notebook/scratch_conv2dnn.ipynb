{
 "cells": [
  {
   "cell_type": "markdown",
   "metadata": {},
   "source": [
    "# Katakana classifier"
   ]
  },
  {
   "cell_type": "markdown",
   "metadata": {},
   "source": [
    "## Import"
   ]
  },
  {
   "cell_type": "code",
   "execution_count": 1,
   "metadata": {},
   "outputs": [],
   "source": [
    "import copy\n",
    "import numpy as np\n",
    "import pandas as pd\n",
    "from tqdm import tqdm\n",
    "import matplotlib.pyplot as plt\n",
    "from sklearn.model_selection import train_test_split\n",
    "import pickle\n",
    "\n",
    "import plotly.express as px\n",
    "import plotly.io as pio\n",
    "# pio.renderers.default = \"notebook\"\n",
    "\n",
    "from PIL import Image\n",
    "from keras.preprocessing.image import ImageDataGenerator\n",
    "\n",
    "import optuna"
   ]
  },
  {
   "cell_type": "code",
   "execution_count": 2,
   "metadata": {},
   "outputs": [],
   "source": [
    "%load_ext autoreload\n",
    "%autoreload 2\n",
    "# from common.layers import Convolution, MaxPooling, ReLU, Affine, SoftmaxWithLoss\n",
    "from common.activations import *\n",
    "from common.optimizer import Adam"
   ]
  },
  {
   "cell_type": "code",
   "execution_count": 3,
   "metadata": {},
   "outputs": [
    {
     "name": "stdout",
     "output_type": "stream",
     "text": [
      "The autoreload extension is already loaded. To reload it, use:\n",
      "  %reload_ext autoreload\n"
     ]
    }
   ],
   "source": [
    "%load_ext autoreload\n",
    "%autoreload 2\n",
    "from common.model import Conv2DNN"
   ]
  },
  {
   "cell_type": "code",
   "execution_count": 4,
   "metadata": {},
   "outputs": [
    {
     "name": "stdout",
     "output_type": "stream",
     "text": [
      "pandas:  1.5.1\n"
     ]
    }
   ],
   "source": [
    "print('pandas: ', pd.__version__)"
   ]
  },
  {
   "cell_type": "code",
   "execution_count": null,
   "metadata": {},
   "outputs": [],
   "source": []
  },
  {
   "cell_type": "code",
   "execution_count": 5,
   "metadata": {},
   "outputs": [],
   "source": [
    "def onehot_to_str(label):\n",
    "    \"\"\"\n",
    "    ワンホットベクトル形式のラベルをカタカナ文字に変換する\n",
    "    \"\"\"\n",
    "    dic_katakana = {\"a\":0,\"i\":1,\"u\":2,\"e\":3,\"o\":4,\"ka\":5,\"ki\":6,\"ku\":7,\"ke\":8,\"ko\":9,\"sa\":10,\"si\":11,\"su\":12,\"se\":13,\"so\":14}\n",
    "    label_int = np.argmax(label)\n",
    "    for key, value in dic_katakana.items():\n",
    "        if value==label_int:\n",
    "            return key"
   ]
  },
  {
   "cell_type": "markdown",
   "metadata": {},
   "source": [
    "## Read data"
   ]
  },
  {
   "cell_type": "code",
   "execution_count": 6,
   "metadata": {},
   "outputs": [
    {
     "name": "stdout",
     "output_type": "stream",
     "text": [
      "train_data.shape= (3000, 1, 28, 28)\n",
      "train_label.shape= (3000, 15)\n"
     ]
    }
   ],
   "source": [
    "train_data = np.load(\"../1_data/train_data.npy\")\n",
    "train_label = np.load(\"../1_data/train_label.npy\")\n",
    "print(\"train_data.shape=\", train_data.shape)\n",
    "print(\"train_label.shape=\", train_label.shape)"
   ]
  },
  {
   "cell_type": "code",
   "execution_count": 7,
   "metadata": {},
   "outputs": [
    {
     "name": "stdout",
     "output_type": "stream",
     "text": [
      "[[  0 200]\n",
      " [  1 200]\n",
      " [  2 200]\n",
      " [  3 200]\n",
      " [  4 200]\n",
      " [  5 200]\n",
      " [  6 200]\n",
      " [  7 200]\n",
      " [  8 200]\n",
      " [  9 200]\n",
      " [ 10 200]\n",
      " [ 11 200]\n",
      " [ 12 200]\n",
      " [ 13 200]\n",
      " [ 14 200]]\n"
     ]
    }
   ],
   "source": [
    "# value counts\n",
    "unique, counts = np.unique(np.argmax(train_label, axis=1), return_counts=True)\n",
    "print(np.asarray((unique, counts)).T)"
   ]
  },
  {
   "cell_type": "code",
   "execution_count": 8,
   "metadata": {},
   "outputs": [
    {
     "name": "stdout",
     "output_type": "stream",
     "text": [
      "se\n"
     ]
    },
    {
     "data": {
      "text/plain": [
       "<matplotlib.image.AxesImage at 0x7fe86488d790>"
      ]
     },
     "execution_count": 8,
     "metadata": {},
     "output_type": "execute_result"
    },
    {
     "data": {
      "image/png": "[encoded data removed]",
      "text/plain": [
       "<Figure size 640x480 with 1 Axes>"
      ]
     },
     "metadata": {},
     "output_type": "display_data"
    }
   ],
   "source": [
    "index = 10\n",
    "print( onehot_to_str(train_label[index]) )\n",
    "plt.imshow(train_data[index][0], cmap='gray')"
   ]
  },
  {
   "cell_type": "code",
   "execution_count": 9,
   "metadata": {},
   "outputs": [
    {
     "name": "stdout",
     "output_type": "stream",
     "text": [
      "2317 ku\n"
     ]
    },
    {
     "data": {
      "text/plain": [
       "<matplotlib.image.AxesImage at 0x7fe8612dba90>"
      ]
     },
     "execution_count": 9,
     "metadata": {},
     "output_type": "execute_result"
    },
    {
     "data": {
      "image/png": "[encoded data removed]",
      "text/plain": [
       "<Figure size 640x480 with 1 Axes>"
      ]
     },
     "metadata": {},
     "output_type": "display_data"
    }
   ],
   "source": [
    "index = np.random.randint(train_label.shape[0], size=1)[0]\n",
    "print(index,  onehot_to_str(train_label[index]) )\n",
    "plt.imshow(train_data[index][0], cmap='gray')"
   ]
  },
  {
   "cell_type": "code",
   "execution_count": 10,
   "metadata": {
    "scrolled": true
   },
   "outputs": [
    {
     "name": "stdout",
     "output_type": "stream",
     "text": [
      "0.0 255.0\n"
     ]
    }
   ],
   "source": [
    "print(train_data.min(), train_data.max())"
   ]
  },
  {
   "cell_type": "code",
   "execution_count": null,
   "metadata": {},
   "outputs": [],
   "source": []
  },
  {
   "cell_type": "code",
   "execution_count": null,
   "metadata": {},
   "outputs": [],
   "source": []
  },
  {
   "cell_type": "code",
   "execution_count": null,
   "metadata": {},
   "outputs": [],
   "source": []
  },
  {
   "cell_type": "code",
   "execution_count": null,
   "metadata": {},
   "outputs": [],
   "source": []
  },
  {
   "cell_type": "markdown",
   "metadata": {},
   "source": [
    "## FE"
   ]
  },
  {
   "cell_type": "code",
   "execution_count": 11,
   "metadata": {
    "scrolled": true
   },
   "outputs": [],
   "source": [
    "# 正規化\n",
    "train_data = (train_data - train_data.min()) / train_data.max()\n",
    "train_data = train_data.astype('float32')\n",
    "# print(train_data)"
   ]
  },
  {
   "cell_type": "code",
   "execution_count": 12,
   "metadata": {},
   "outputs": [],
   "source": [
    "# # 配列形式変更\n",
    "# train_data = train_data.reshape(-1, 28*28)\n",
    "# print(\"train_data.shape=\", train_data.shape)"
   ]
  },
  {
   "cell_type": "code",
   "execution_count": null,
   "metadata": {},
   "outputs": [],
   "source": []
  },
  {
   "cell_type": "code",
   "execution_count": null,
   "metadata": {},
   "outputs": [],
   "source": []
  },
  {
   "cell_type": "markdown",
   "metadata": {},
   "source": [
    "## Prepare dataset"
   ]
  },
  {
   "cell_type": "markdown",
   "metadata": {
    "tags": []
   },
   "source": [
    "### ImageDataGenerator"
   ]
  },
  {
   "cell_type": "code",
   "execution_count": 13,
   "metadata": {},
   "outputs": [],
   "source": [
    "# datagen = ImageDataGenerator(\n",
    "#     featurewise_center=True, # 真理値．データセット全体で，入力の平均を0にします\n",
    "#     featurewise_std_normalization=True, # 真理値．入力をデータセットの標準偏差で正規化します\n",
    "#     rotation_range=20, # 整数．画像をランダムに回転する回転範囲\n",
    "#     width_shift_range=0.2, # 浮動小数点数（横幅に対する割合）．ランダムに水平シフトする範囲\n",
    "#     height_shift_range=0.2, # 浮動小数点数（縦幅に対する割合）．ランダムに垂直シフトする範囲\n",
    "#     horizontal_flip=False, # 真理値．水平方向に入力をランダムに反転します\n",
    "# )\n",
    "\n",
    "# datagen.fit(train_data, seed=42)\n",
    "\n",
    "# # fits the model on batches with real-time data augmentation:\n",
    "# g = datagen.flow(train_data, train_label, batch_size=train_label.shape[0], seed=42)"
   ]
  },
  {
   "cell_type": "code",
   "execution_count": 14,
   "metadata": {},
   "outputs": [],
   "source": [
    "# x, y = g.next()\n",
    "# print(x.shape, y.shape)\n",
    "# index = 10\n",
    "# print( onehot_to_str(y[index]) )\n",
    "# plt.imshow(x[index][0], cmap='gray')"
   ]
  },
  {
   "cell_type": "code",
   "execution_count": 15,
   "metadata": {
    "scrolled": true
   },
   "outputs": [],
   "source": [
    "# train_data_reshaped = train_data.reshape(train_data.shape[0], 28, 28, 1)\n",
    "# print('train_data_reshaped:', train_data_reshaped.shape)"
   ]
  },
  {
   "cell_type": "markdown",
   "metadata": {},
   "source": [
    "### split"
   ]
  },
  {
   "cell_type": "code",
   "execution_count": 16,
   "metadata": {},
   "outputs": [
    {
     "name": "stdout",
     "output_type": "stream",
     "text": [
      "X_train: (2400, 1, 28, 28) , X_test: (600, 1, 28, 28)\n"
     ]
    }
   ],
   "source": [
    "X_train, X_test, y_train, y_test = train_test_split(train_data, train_label, test_size=0.2, shuffle=True, random_state=42, stratify=train_label)\n",
    "print('X_train:', X_train.shape, ', X_test:', X_test.shape)"
   ]
  },
  {
   "cell_type": "markdown",
   "metadata": {
    "tags": []
   },
   "source": [
    "### ImageDataGenerator"
   ]
  },
  {
   "cell_type": "code",
   "execution_count": 17,
   "metadata": {},
   "outputs": [
    {
     "name": "stderr",
     "output_type": "stream",
     "text": [
      "/home/eunchong/.local/lib/python3.8/site-packages/keras/preprocessing/image.py:1874: UserWarning: Expected input to be images (as Numpy array) following the data format convention \"channels_last\" (channels on axis 3), i.e. expected either 1, 3 or 4 channels on axis 3. However, it was passed an array with shape (2400, 1, 28, 28) (28 channels).\n",
      "  warnings.warn('Expected input to be images (as Numpy array) '\n",
      "/home/eunchong/.local/lib/python3.8/site-packages/keras/preprocessing/image.py:680: UserWarning: NumpyArrayIterator is set to use the data format convention \"channels_last\" (channels on axis 3), i.e. expected either 1, 3, or 4 channels on axis 3. However, it was passed an array with shape (2400, 1, 28, 28) (28 channels).\n",
      "  warnings.warn('NumpyArrayIterator is set to use the '\n"
     ]
    }
   ],
   "source": [
    "datagen = ImageDataGenerator(\n",
    "    featurewise_center=True, # 真理値．データセット全体で，入力の平均を0にします\n",
    "    featurewise_std_normalization=True, # 真理値．入力をデータセットの標準偏差で正規化します\n",
    "    rotation_range=20, # 整数．画像をランダムに回転する回転範囲\n",
    "    width_shift_range=0.2, # 浮動小数点数（横幅に対する割合）．ランダムに水平シフトする範囲\n",
    "    height_shift_range=0.2, # 浮動小数点数（縦幅に対する割合）．ランダムに垂直シフトする範囲\n",
    "    horizontal_flip=False, # 真理値．水平方向に入力をランダムに反転します\n",
    ")\n",
    "\n",
    "datagen.fit(X_train, seed=42)\n",
    "\n",
    "# fits the model on batches with real-time data augmentation:\n",
    "g = datagen.flow(X_train, y_train, batch_size=train_label.shape[0], seed=42)"
   ]
  },
  {
   "cell_type": "code",
   "execution_count": 18,
   "metadata": {
    "scrolled": true
   },
   "outputs": [
    {
     "name": "stdout",
     "output_type": "stream",
     "text": [
      "(9600, 1, 28, 28)\n"
     ]
    }
   ],
   "source": [
    "for i in range(3):\n",
    "    x, y = g.next()\n",
    "    X_train = np.append(X_train, x, axis=0)\n",
    "    y_train = np.append(y_train, y, axis=0)\n",
    "print(X_train.shape)"
   ]
  },
  {
   "cell_type": "code",
   "execution_count": 19,
   "metadata": {},
   "outputs": [
    {
     "name": "stdout",
     "output_type": "stream",
     "text": [
      "[[  0 640]\n",
      " [  1 640]\n",
      " [  2 640]\n",
      " [  3 640]\n",
      " [  4 640]\n",
      " [  5 640]\n",
      " [  6 640]\n",
      " [  7 640]\n",
      " [  8 640]\n",
      " [  9 640]\n",
      " [ 10 640]\n",
      " [ 11 640]\n",
      " [ 12 640]\n",
      " [ 13 640]\n",
      " [ 14 640]]\n"
     ]
    }
   ],
   "source": [
    "# value counts\n",
    "unique, counts = np.unique(np.argmax(y_train, axis=1), return_counts=True)\n",
    "print(np.asarray((unique, counts)).T)"
   ]
  },
  {
   "cell_type": "code",
   "execution_count": 20,
   "metadata": {},
   "outputs": [
    {
     "name": "stdout",
     "output_type": "stream",
     "text": [
      "[[ 0 40]\n",
      " [ 1 40]\n",
      " [ 2 40]\n",
      " [ 3 40]\n",
      " [ 4 40]\n",
      " [ 5 40]\n",
      " [ 6 40]\n",
      " [ 7 40]\n",
      " [ 8 40]\n",
      " [ 9 40]\n",
      " [10 40]\n",
      " [11 40]\n",
      " [12 40]\n",
      " [13 40]\n",
      " [14 40]]\n"
     ]
    }
   ],
   "source": [
    "# value counts\n",
    "unique, counts = np.unique(np.argmax(y_test, axis=1), return_counts=True)\n",
    "print(np.asarray((unique, counts)).T)"
   ]
  },
  {
   "cell_type": "code",
   "execution_count": null,
   "metadata": {},
   "outputs": [],
   "source": []
  },
  {
   "cell_type": "code",
   "execution_count": null,
   "metadata": {},
   "outputs": [],
   "source": []
  },
  {
   "cell_type": "markdown",
   "metadata": {},
   "source": [
    "## Train"
   ]
  },
  {
   "cell_type": "markdown",
   "metadata": {},
   "source": [
    "### early_stopping"
   ]
  },
  {
   "cell_type": "code",
   "execution_count": 21,
   "metadata": {},
   "outputs": [],
   "source": [
    "def early_stopping(model, best_model, new_value, prev_value, patience_cnt, patience=2, direction='minimize'):\n",
    "    stop_flg = False\n",
    "    update_value = prev_value\n",
    "    if direction == 'minimize':\n",
    "        if new_value < prev_value:\n",
    "            update_value = new_value\n",
    "            best_model = copy.deepcopy(model)\n",
    "            patience_cnt = 0\n",
    "        else:\n",
    "            patience_cnt += 1\n",
    "            \n",
    "    elif direction == 'maximize':\n",
    "        if new_value > prev_value:\n",
    "            update_value = new_value\n",
    "            best_model = copy.deepcopy(model)\n",
    "            patience_cnt = 0\n",
    "        else:\n",
    "            patience_cnt += 1\n",
    "            \n",
    "    if patience_cnt >= patience:\n",
    "        stop_flg = True\n",
    "\n",
    "    return update_value, patience_cnt, stop_flg, best_model"
   ]
  },
  {
   "cell_type": "markdown",
   "metadata": {},
   "source": [
    "### train func"
   ]
  },
  {
   "cell_type": "code",
   "execution_count": 22,
   "metadata": {},
   "outputs": [],
   "source": [
    "# def trainConv2DNN(X_train, y_train, quite=False, **kwargs):\n",
    "def trainConv2DNN(X_train, y_train, X_test, y_test, quite=False, **kwargs):\n",
    "    np.random.seed(42)\n",
    "    \n",
    "    # X_train, X_val, y_train, y_val = train_test_split(X_train, y_train, test_size=0.2, shuffle=True, stratify=y_train, random_state=42)\n",
    "    # print('X_train', X_train.shape, ', X_val', X_val.shape)\n",
    "    \n",
    "    X_val = X_test.copy()\n",
    "    y_val = y_test.copy()\n",
    "\n",
    "    epochs = kwargs['epochs']\n",
    "    batch_size = kwargs['batch_size']\n",
    "\n",
    "    optimizer = Adam(lr=kwargs['learning_rate'], epsilon=kwargs['epsilon'])\n",
    "\n",
    "    # 繰り返し回数\n",
    "    xsize = X_train.shape[0]\n",
    "    iter_num = np.ceil(xsize / batch_size).astype(np.int)\n",
    "\n",
    "    # Conv2DNNのオブジェクト生成\n",
    "    model = Conv2DNN(\n",
    "        input_dim=X_train.shape[1:], \n",
    "        weight_init_std=0.01,\n",
    "        **kwargs\n",
    "    )\n",
    "    model.summary()\n",
    "\n",
    "    train_loss_list = []\n",
    "    val_loss_list = []\n",
    "    train_accuracy_list = []\n",
    "    val_accuracy_list = []\n",
    "    # for early stopping\n",
    "    prev_value = patience_cnt = 0\n",
    "    best_model = None\n",
    "\n",
    "    # for epoch in tqdm(range(epochs)):\n",
    "    pbar = tqdm(range(epochs))\n",
    "    for epoch in pbar:\n",
    "        # print(\"epoch=%s\"%epoch)\n",
    "\n",
    "        # シャッフル\n",
    "        idx = np.arange(xsize)\n",
    "        np.random.shuffle(idx)\n",
    "\n",
    "        for it in range(iter_num):\n",
    "            \"\"\"\n",
    "            ランダムなミニバッチを順番に取り出す\n",
    "            \"\"\"\n",
    "            # print(\"it=\", it)\n",
    "            mask = idx[batch_size*it : batch_size*(it+1)]\n",
    "\n",
    "            # ミニバッチの生成\n",
    "            X_train_mini = X_train[mask]\n",
    "            y_train_mini = y_train[mask]\n",
    "\n",
    "            # 勾配の計算 (誤差逆伝播法を用いる) \n",
    "            grads = model.gradient(X_train_mini, y_train_mini, train_flg=True)\n",
    "\n",
    "            # 更新\n",
    "            optimizer.update(model.params, grads)\n",
    "\n",
    "        ## 学習経過の記録\n",
    "        # 訓練データにおけるloss\n",
    "        train_loss_list.append(model.loss(X_train, y_train, train_flg=False))\n",
    "        # テストデータにおけるloss\n",
    "        val_loss_list.append(model.loss(X_val, y_val, train_flg=False))\n",
    "        # 訓練データにて精度を確認\n",
    "        train_accuracy_list.append(model.accuracy(X_train, y_train))\n",
    "        # テストデータにて精度を算出\n",
    "        val_accuracy_list.append(model.accuracy(X_val, y_val))\n",
    "        \n",
    "        # early_stopping\n",
    "        prev_value, patience_cnt, stop_flg, best_model = early_stopping(\n",
    "            model, best_model, val_accuracy_list[-1], prev_value, patience_cnt, patience=kwargs['patience'], direction='maximize'\n",
    "        )\n",
    "        if stop_flg:\n",
    "            model = best_model\n",
    "            break\n",
    "            \n",
    "        pbar.set_description(f'val_accuracy: {val_accuracy_list[-1]:.4}')\n",
    "        \n",
    "    history_df = pd.DataFrame({\n",
    "        \"train_loss\": train_loss_list,\n",
    "        \"val_loss\": val_loss_list,\n",
    "        \"train_accuracy\": train_accuracy_list,\n",
    "        \"val_accuracy\": val_accuracy_list,\n",
    "    })\n",
    "    if not quite:\n",
    "        # lossのグラフ化\n",
    "        display( history_df.tail(1) )\n",
    "        fig, (ax1, ax2) = plt.subplots(1, 2, figsize=(12, 4))\n",
    "        history_df.filter(regex='loss').plot(ax=ax1, grid=True, xlabel='epochs', ylabel='loss')\n",
    "        history_df.filter(regex='accuracy').plot(ax=ax2, grid=True, xlabel='epochs', ylabel='accuracy', ylim=(0.9, 1.0))\n",
    "        plt.show()\n",
    "\n",
    "    return model, history_df"
   ]
  },
  {
   "cell_type": "markdown",
   "metadata": {},
   "source": [
    "### test func"
   ]
  },
  {
   "cell_type": "code",
   "execution_count": 23,
   "metadata": {},
   "outputs": [],
   "source": [
    "def testModel(model, X_test, y_test, quite=False):\n",
    "    # loss\n",
    "    accuracy = model.accuracy(X_test, y_test)\n",
    "    loss  = model.loss(X_test, y_test, train_flg=False)\n",
    "\n",
    "    if not quite:\n",
    "        print(f'> loss: {loss:.4}, accuracy: {accuracy:.4}')\n",
    "    \n",
    "    return loss, accuracy"
   ]
  },
  {
   "cell_type": "markdown",
   "metadata": {},
   "source": [
    "### try1"
   ]
  },
  {
   "cell_type": "code",
   "execution_count": null,
   "metadata": {},
   "outputs": [
    {
     "name": "stderr",
     "output_type": "stream",
     "text": [
      "/tmp/ipykernel_16041/4057814456.py:18: DeprecationWarning: `np.int` is a deprecated alias for the builtin `int`. To silence this warning, use `int` by itself. Doing this will not modify any behavior and is safe. When replacing `np.int`, you may wish to use e.g. `np.int64` or `np.int32` to specify the precision. If you wish to review your current use, check the release note link for additional information.\n",
      "Deprecated in NumPy 1.20; for more details and guidance: https://numpy.org/devdocs/release/1.20.0-notes.html#deprecations\n",
      "  iter_num = np.ceil(xsize / batch_size).astype(np.int)\n"
     ]
    },
    {
     "name": "stdout",
     "output_type": "stream",
     "text": [
      "Conv1\t\t(None, 64, 26, 26)\t640\t(64, 1, 3, 3), (64,)\n",
      "Conv2\t\t(None, 64, 24, 24)\t36928\t(64, 64, 3, 3), (64,)\n",
      "Pool1\t\t(None, 64, 12, 12)\n",
      "BatchNorm1\t(None, 64, 12, 12)\t256\t(64,), (64,), (64,), (64,)\n",
      "Conv3\t\t(None, 128, 10, 10)\t73856\t(128, 64, 3, 3), (128,)\n",
      "Conv4\t\t(None, 128, 8, 8)\t147584\t(128, 128, 3, 3), (128,)\n",
      "Pool2\t\t(None, 128, 4, 4)\n",
      "BatchNorm2\t(None, 128, 4, 4)\t512\t(128,), (128,), (128,), (128,)\n",
      "Conv5\t\t(None, 256, 2, 2)\t295168\t(256, 128, 3, 3), (256,)\n",
      "Pool3\t\t(None, 256, 1, 1)\n",
      "BatchNorm3\t(None, 256, 1, 1)\t1024\t(256,), (256,), (256,), (256,)\n",
      "Flatten\t\t(None, 256)\n",
      "Affine1\t\t(None, 512)\t\t131584\t(256, 512), (512,)\n",
      "Affine3\t\t(None, 15)\t\t7695\t(512, 15), (15,)\n"
     ]
    },
    {
     "name": "stderr",
     "output_type": "stream",
     "text": [
      "val_accuracy: 0.96:  23%|███████████▏                                    | 232/1000 [22:44:36<75:17:20, 352.92s/it]\n"
     ]
    },
    {
     "data": {
      "text/html": [
       "<div>\n",
       "<style scoped>\n",
       "    .dataframe tbody tr th:only-of-type {\n",
       "        vertical-align: middle;\n",
       "    }\n",
       "\n",
       "    .dataframe tbody tr th {\n",
       "        vertical-align: top;\n",
       "    }\n",
       "\n",
       "    .dataframe thead th {\n",
       "        text-align: right;\n",
       "    }\n",
       "</style>\n",
       "<table border=\"1\" class=\"dataframe\">\n",
       "  <thead>\n",
       "    <tr style=\"text-align: right;\">\n",
       "      <th></th>\n",
       "      <th>train_loss</th>\n",
       "      <th>val_loss</th>\n",
       "      <th>train_accuracy</th>\n",
       "      <th>val_accuracy</th>\n",
       "    </tr>\n",
       "  </thead>\n",
       "  <tbody>\n",
       "    <tr>\n",
       "      <th>232</th>\n",
       "      <td>0.000003</td>\n",
       "      <td>0.293487</td>\n",
       "      <td>1.0</td>\n",
       "      <td>0.97</td>\n",
       "    </tr>\n",
       "  </tbody>\n",
       "</table>\n",
       "</div>"
      ],
      "text/plain": [
       "     train_loss  val_loss  train_accuracy  val_accuracy\n",
       "232    0.000003  0.293487             1.0          0.97"
      ]
     },
     "metadata": {},
     "output_type": "display_data"
    }
   ],
   "source": [
    "%%time\n",
    "layer_params = {\n",
    "    'Conv1': {'channel': 64, 'size': 3, 'pad': 0, 'stride': 1},\n",
    "    'ReLU1': {},\n",
    "    'Conv2': {'channel': 64, 'size': 3, 'pad': 0, 'stride': 1},\n",
    "    'ReLU2': {},\n",
    "    'Pool1': {'size': 2, 'pad': 0, 'stride': 2},\n",
    "    'BatchNorm1': {},\n",
    "    # 'Dropout1': {'dropout': 0.1},\n",
    "    'Conv3': {'channel': 128, 'size': 3, 'pad': 0, 'stride': 1},\n",
    "    'ReLU3': {},\n",
    "    'Conv4': {'channel': 128, 'size': 3, 'pad': 0, 'stride': 1},\n",
    "    'ReLU4': {},\n",
    "    'Pool2': {'size': 2, 'pad': 0, 'stride': 2},\n",
    "    'BatchNorm2': {},\n",
    "    # 'Dropout2': {'dropout': 0.1},\n",
    "    'Conv5': {'channel': 256, 'size': 3, 'pad': 0, 'stride': 1},\n",
    "    'ReLU5': {},\n",
    "    'Pool3': {'size': 2, 'pad': 0, 'stride': 2},\n",
    "    'BatchNorm3': {},\n",
    "    # 'Dropout3': {'dropout': 0.1},\n",
    "    'Flatten': {},\n",
    "    'Affine1': {'hidden_size': 512},\n",
    "    'ReLU6': {},\n",
    "    # 'BatchNorm4': {},\n",
    "    # 'Affine2': {'hidden_size': 128},\n",
    "    # 'ReLU7': {},\n",
    "    # 'BatchNorm5': {},\n",
    "    'Affine3': {'hidden_size': 15},\n",
    "}\n",
    "hp_params = {\n",
    "    'layer_params': layer_params,\n",
    "    'learning_rate': 1e-3, 'epsilon': 1e-8, # Compile HP\n",
    "    'batch_size': 32, 'epochs': 1000, 'patience': 100, # fit HP\n",
    "}\n",
    "model, history_df = trainConv2DNN(X_train, y_train, X_test, y_test, **hp_params)\n",
    "loss, accuracy = testModel(model, X_test, y_test)\n",
    "loss, accuracy = testModel(model, train_data, train_label)"
   ]
  },
  {
   "cell_type": "code",
   "execution_count": 41,
   "metadata": {},
   "outputs": [
    {
     "name": "stdout",
     "output_type": "stream",
     "text": [
      "> loss: 0.1823, accuracy: 0.9817\n",
      "> loss: 0.0529, accuracy: 0.995\n"
     ]
    }
   ],
   "source": [
    "loss, accuracy = testModel(model, X_test, y_test)\n",
    "loss, accuracy = testModel(model, train_data, train_label)"
   ]
  },
  {
   "cell_type": "markdown",
   "metadata": {},
   "source": [
    "### try2"
   ]
  },
  {
   "cell_type": "code",
   "execution_count": null,
   "metadata": {},
   "outputs": [],
   "source": [
    "# %%time\n",
    "# layer_params = {\n",
    "#     'Conv1': {'channel': 64, 'size': 3, 'pad': 0, 'stride': 1},\n",
    "#     'ReLU1': {},\n",
    "#     'Conv2': {'channel': 64, 'size': 3, 'pad': 0, 'stride': 1},\n",
    "#     'ReLU2': {},\n",
    "#     'Pool1': {'size': 2, 'pad': 0, 'stride': 2},\n",
    "#     'BatchNorm1': {},\n",
    "#     # 'Dropout1': {'dropout': 0.1},\n",
    "#     'Conv3': {'channel': 128, 'size': 3, 'pad': 0, 'stride': 1},\n",
    "#     'ReLU3': {},\n",
    "#     'Conv4': {'channel': 128, 'size': 3, 'pad': 0, 'stride': 1},\n",
    "#     'ReLU4': {},\n",
    "#     'Pool2': {'size': 2, 'pad': 0, 'stride': 2},\n",
    "#     'BatchNorm2': {},\n",
    "#     # 'Dropout2': {'dropout': 0.1},\n",
    "#     'Conv5': {'channel': 256, 'size': 3, 'pad': 0, 'stride': 1},\n",
    "#     'ReLU5': {},\n",
    "#     'Pool3': {'size': 2, 'pad': 0, 'stride': 2},\n",
    "#     'BatchNorm3': {},\n",
    "#     # 'Dropout3': {'dropout': 0.1},\n",
    "#     'Flatten': {},\n",
    "#     'Affine1': {'hidden_size': 512},\n",
    "#     'ReLU6': {},\n",
    "#     # 'BatchNorm4': {},\n",
    "#     # 'Affine2': {'hidden_size': 128},\n",
    "#     # 'ReLU7': {},\n",
    "#     # 'BatchNorm5': {},\n",
    "#     'Affine3': {'hidden_size': 15},\n",
    "# }\n",
    "# hp_params = {\n",
    "#     'layer_params': layer_params,\n",
    "#     'learning_rate': 1e-3, 'epsilon': 1e-8, # Compile HP\n",
    "#     'batch_size': 32, 'epochs': 1, 'patience': 50, # fit HP\n",
    "# }\n",
    "# model = Conv2DNN(\n",
    "#     input_dim=X_train.shape[1:], \n",
    "#     weight_init_std=0.01,\n",
    "#     **hp_params\n",
    "# )\n",
    "# model.summary()\n",
    "\n",
    "# def loss(model, x, t, train_flg=True, batch_size=100):\n",
    "#     \"\"\"\n",
    "#     損失関数\n",
    "#     x : 入力データ\n",
    "#     t : 教師データ\n",
    "#     \"\"\"\n",
    "#     y = model.predict(x, train_flg)\n",
    "#     return model.last_layer.forward(y, t)\n",
    "\n",
    "# print(loss(model, X_train[:4000], y_train[:4000], train_flg=False)) \n",
    "\n",
    "# def loss(self, x, t, train_flg=True, batch_size=100):\n",
    "#     \"\"\"\n",
    "#     損失関数\n",
    "#     x : 入力データ\n",
    "#     t : 教師データ\n",
    "#     \"\"\"\n",
    "#     loss = 0.0\n",
    "#     batch_loop_size = int(np.ceil(x.shape[0] / batch_size))\n",
    "#     for i in range( batch_loop_size ):\n",
    "#         tx = x[i*batch_size:(i+1)*batch_size]\n",
    "#         tt = t[i*batch_size:(i+1)*batch_size]\n",
    "#         yy = model.predict(tx, train_flg)\n",
    "#         loss += model.last_layer.forward(yy, tt)\n",
    "\n",
    "#     return loss/batch_loop_size\n",
    "\n",
    "\n",
    "# print(loss(model, X_train[:4000], y_train[:4000], train_flg=False)) "
   ]
  },
  {
   "cell_type": "markdown",
   "metadata": {},
   "source": [
    "### try 3"
   ]
  },
  {
   "cell_type": "code",
   "execution_count": null,
   "metadata": {},
   "outputs": [],
   "source": [
    "# %%time\n",
    "# layer_params = {\n",
    "#     'Conv1': {'channel': 64, 'size': 3, 'pad': 0, 'stride': 1},\n",
    "#     'ReLU1': {},\n",
    "#     'Conv2': {'channel': 64, 'size': 3, 'pad': 0, 'stride': 1},\n",
    "#     'ReLU2': {},\n",
    "#     'Pool1': {'size': 2, 'pad': 0, 'stride': 2},\n",
    "#     'BatchNorm1': {},\n",
    "#     # 'Dropout1': {'dropout': 0.1},\n",
    "#     'Conv3': {'channel': 128, 'size': 3, 'pad': 0, 'stride': 1},\n",
    "#     'ReLU3': {},\n",
    "#     'Conv4': {'channel': 128, 'size': 3, 'pad': 0, 'stride': 1},\n",
    "#     'ReLU4': {},\n",
    "#     'Pool2': {'size': 2, 'pad': 0, 'stride': 2},\n",
    "#     'BatchNorm2': {},\n",
    "#     # 'Dropout2': {'dropout': 0.1},\n",
    "#     'Conv5': {'channel': 256, 'size': 3, 'pad': 0, 'stride': 1},\n",
    "#     'ReLU5': {},\n",
    "#     'Pool3': {'size': 2, 'pad': 0, 'stride': 2},\n",
    "#     'BatchNorm3': {},\n",
    "#     # 'Dropout3': {'dropout': 0.1},\n",
    "#     'Flatten': {},\n",
    "#     'Affine1': {'hidden_size': 512},\n",
    "#     'ReLU6': {},\n",
    "#     'BatchNorm4': {},\n",
    "#     'Affine2': {'hidden_size': 256},\n",
    "#     'ReLU7': {},\n",
    "#     'BatchNorm5': {},\n",
    "#     'Affine3': {'hidden_size': 15},\n",
    "# }\n",
    "# hp_params = {\n",
    "#     'layer_params': layer_params,\n",
    "#     'learning_rate': 1e-3, 'epsilon': 1e-8, # Compile HP\n",
    "#     'batch_size': 32, 'epochs': 100, 'patience': 10, # fit HP\n",
    "# }\n",
    "# model, history_df = trainConv2DNN(X_train, y_train, X_test, y_test, **hp_params)\n",
    "# loss, accuracy = testModel(model, X_test, y_test)\n",
    "# loss, accuracy = testModel(model, train_data, train_label)"
   ]
  },
  {
   "cell_type": "code",
   "execution_count": null,
   "metadata": {},
   "outputs": [],
   "source": []
  },
  {
   "cell_type": "code",
   "execution_count": null,
   "metadata": {},
   "outputs": [],
   "source": []
  },
  {
   "cell_type": "code",
   "execution_count": null,
   "metadata": {},
   "outputs": [],
   "source": []
  },
  {
   "cell_type": "code",
   "execution_count": null,
   "metadata": {},
   "outputs": [],
   "source": []
  },
  {
   "cell_type": "markdown",
   "metadata": {},
   "source": [
    "## OPTUNA"
   ]
  },
  {
   "cell_type": "markdown",
   "metadata": {},
   "source": [
    "### objective"
   ]
  },
  {
   "cell_type": "code",
   "execution_count": null,
   "metadata": {},
   "outputs": [],
   "source": [
    "# def objective(trial):\n",
    "#     hp_params = {\n",
    "#         # Conv2D HP\n",
    "#         'conv2d_layers': trial.suggest_int('conv2d_layers', 1, 3), \n",
    "#         # Dense HP\n",
    "#         'dense_layers': trial.suggest_int('dense_layers', 1, 8), \n",
    "#         # Compile HP\n",
    "#         'learning_rate': trial.suggest_float('learning_rate', 1e-5, 1e-1, log=True),\n",
    "#         'epsilon': trial.suggest_float('epsilon', 1e-9, 1e-3, log=True), \n",
    "#         # fit HP\n",
    "#         'batch_size': trial.suggest_int('batch_size', 16, 512, step=16), \n",
    "#         'epochs': trial.suggest_int('epochs', 1000, 1000), \n",
    "#         'patience': trial.suggest_int('patience', 2, 32, step=2), \n",
    "#     }\n",
    "#     # add conv2d hp\n",
    "#     for conv2d_layer in range(1, hp_params['conv2d_layers']+1):\n",
    "#         hp_params[f'conv2d_layer{conv2d_layer}_filters'] = trial.suggest_int(f'conv2d_layer{conv2d_layer}_filters', 16, 512, step=16)\n",
    "#     # add dense hp\n",
    "#     for dense_layer in range(1, hp_params['dense_layers']+1):\n",
    "#         hp_params[f'dense_layer{dense_layer}_units'] = trial.suggest_int(f'dense_layer{dense_layer}_units', 16, 512, step=16)\n",
    "#         hp_params[f'dense_layer{dense_layer}_dropout'] = trial.suggest_float(f'dense_layer{dense_layer}_dropout', 0.00, 0.50, step=0.1)\n",
    "    \n",
    "#     # print(hp_params)\n",
    "    \n",
    "#     model, history = trainConv2DNN(X_train, y_train, quite=True, **hp_params)\n",
    "#     loss, accuracy = testModel(model, X_test, y_test, quite=True)\n",
    "    \n",
    "#     return accuracy"
   ]
  },
  {
   "cell_type": "markdown",
   "metadata": {},
   "source": [
    "### study"
   ]
  },
  {
   "cell_type": "code",
   "execution_count": null,
   "metadata": {},
   "outputs": [],
   "source": [
    "# study = optuna.create_study(\n",
    "#     storage = 'sqlite:///scrach_conv2dnn.db', \n",
    "#     sampler = optuna.samplers.TPESampler(seed=42), \n",
    "#     study_name = 'conv2dnn', \n",
    "#     direction = 'maximize',\n",
    "#     load_if_exists = True,\n",
    "# )"
   ]
  },
  {
   "cell_type": "markdown",
   "metadata": {},
   "source": [
    "### optimize"
   ]
  },
  {
   "cell_type": "code",
   "execution_count": null,
   "metadata": {},
   "outputs": [],
   "source": [
    "# # initial value\n",
    "# study.enqueue_trial({\n",
    "#     'conv2d_layers': 1, 'conv2d_layer1_filters': 64, # Conv2D HP\n",
    "#     'dense_layers': 1, 'dense_layer1_units': 128, 'dense_layer1_dropout': 0.1, # Dense HP\n",
    "#     'learning_rate': 1e-3, 'epsilon': 1e-7, # Compile HP\n",
    "#     'batch_size': 32, 'epochs': 1000, 'patience': 4, # fit HP\n",
    "# })"
   ]
  },
  {
   "cell_type": "code",
   "execution_count": null,
   "metadata": {},
   "outputs": [],
   "source": [
    "# ### callback\n",
    "# optuna.logging.set_verbosity(optuna.logging.WARNING)\n",
    "# def customCallback(study, trial):\n",
    "#     previous_best_value = study.user_attrs.get('previous_best_value', None)\n",
    "#     if previous_best_value != study.best_value:\n",
    "#         study.set_user_attr('previous_best_value', study.best_value)\n",
    "#         print(f'Trial {trial.number} finished with best value: {trial.value} and parameters: {trial.params}')"
   ]
  },
  {
   "cell_type": "code",
   "execution_count": null,
   "metadata": {},
   "outputs": [],
   "source": [
    "# study.optimize(\n",
    "#     objective,\n",
    "#     # n_trials = 10,\n",
    "#     timeout=60*60*1,\n",
    "#     callbacks=[customCallback]\n",
    "# )"
   ]
  },
  {
   "cell_type": "markdown",
   "metadata": {},
   "source": [
    "### check study"
   ]
  },
  {
   "cell_type": "code",
   "execution_count": null,
   "metadata": {},
   "outputs": [],
   "source": [
    "# study_df = study.trials_dataframe()\n",
    "# study_df.sort_values('value', ascending=False).head()"
   ]
  },
  {
   "cell_type": "code",
   "execution_count": null,
   "metadata": {},
   "outputs": [],
   "source": [
    "# optuna.visualization.plot_optimization_history(study)"
   ]
  },
  {
   "cell_type": "code",
   "execution_count": null,
   "metadata": {},
   "outputs": [],
   "source": [
    "# optuna.visualization.plot_param_importances(study)"
   ]
  },
  {
   "cell_type": "markdown",
   "metadata": {},
   "source": [
    "### get best params"
   ]
  },
  {
   "cell_type": "code",
   "execution_count": null,
   "metadata": {},
   "outputs": [],
   "source": [
    "# study.best_params"
   ]
  },
  {
   "cell_type": "markdown",
   "metadata": {},
   "source": [
    "## Output"
   ]
  },
  {
   "cell_type": "code",
   "execution_count": null,
   "metadata": {},
   "outputs": [],
   "source": [
    "# with open(\"katakana_model.pickle\", \"wb\") as f:\n",
    "#     pickle.dump(model, f)"
   ]
  },
  {
   "cell_type": "code",
   "execution_count": 42,
   "metadata": {},
   "outputs": [],
   "source": [
    "with open(\"katakana_model_params.pickle\", \"wb\") as f:\n",
    "    pickle.dump(model.params, f)\n",
    "with open(\"katakana_model_bn_params.pickle\", \"wb\") as f:\n",
    "    pickle.dump(model.bn_params, f)\n",
    "with open(\"katakana_model_hp_params.pickle\", \"wb\") as f:\n",
    "    pickle.dump(hp_params, f)"
   ]
  },
  {
   "cell_type": "markdown",
   "metadata": {},
   "source": [
    "## Test"
   ]
  },
  {
   "cell_type": "code",
   "execution_count": 43,
   "metadata": {},
   "outputs": [
    {
     "name": "stdout",
     "output_type": "stream",
     "text": [
      "Conv1\t\t(None, 64, 26, 26)\t640\t(64, 1, 3, 3), (64,)\n",
      "Conv2\t\t(None, 64, 24, 24)\t36928\t(64, 64, 3, 3), (64,)\n",
      "Pool1\t\t(None, 64, 12, 12)\n",
      "BatchNorm1\t(None, 64, 12, 12)\t256\t(64,), (64,), (64,), (64,)\n",
      "Conv3\t\t(None, 128, 10, 10)\t73856\t(128, 64, 3, 3), (128,)\n",
      "Conv4\t\t(None, 128, 8, 8)\t147584\t(128, 128, 3, 3), (128,)\n",
      "Pool2\t\t(None, 128, 4, 4)\n",
      "BatchNorm2\t(None, 128, 4, 4)\t512\t(128,), (128,), (128,), (128,)\n",
      "Conv5\t\t(None, 256, 2, 2)\t295168\t(256, 128, 3, 3), (256,)\n",
      "Pool3\t\t(None, 256, 1, 1)\n",
      "BatchNorm3\t(None, 256, 1, 1)\t1024\t(256,), (256,), (256,), (256,)\n",
      "Flatten\t\t(None, 256)\n",
      "Affine1\t\t(None, 512)\t\t131584\t(256, 512), (512,)\n",
      "Affine3\t\t(None, 15)\t\t7695\t(512, 15), (15,)\n",
      "> loss: 0.1823, accuracy: 0.9817\n",
      "> loss: 0.0529, accuracy: 0.995\n"
     ]
    }
   ],
   "source": [
    "np.random.seed(42)\n",
    "# create model\n",
    "with open(\"katakana_model_hp_params.pickle\", \"rb\") as f:\n",
    "    temp_hp_params = pickle.load(f)\n",
    "temp_model = Conv2DNN(\n",
    "    input_dim=X_test.shape[1:], \n",
    "    weight_init_std=0.01,\n",
    "    **temp_hp_params\n",
    ")\n",
    "temp_model.summary()\n",
    "    \n",
    "i = 0\n",
    "# set params\n",
    "with open(\"katakana_model_bn_params.pickle\", \"rb\") as f:\n",
    "    temp_bn_params = pickle.load(f)\n",
    "with open(\"katakana_model_params.pickle\", \"rb\") as f:\n",
    "    temp_params = pickle.load(f)\n",
    "for key in temp_hp_params['layer_params'].keys():\n",
    "    if (\n",
    "        ('Conv' in key) or ('Affine' in key)\n",
    "    ):\n",
    "        # print(i, key)\n",
    "        temp_model.layers[key].W = temp_params[f'W{i}']\n",
    "        temp_model.layers[key].b = temp_params[f'b{i}']\n",
    "        i += 1\n",
    "    elif ('BatchNorm' in key):\n",
    "        temp_model.layers[key].gamma = temp_params[f'gamma{i}']\n",
    "        temp_model.layers[key].beta = temp_params[f'beta{i}']\n",
    "        temp_model.layers[key].moving_mean = temp_bn_params[f'moving_mean{i}']\n",
    "        temp_model.layers[key].moving_var = temp_bn_params[f'moving_var{i}']\n",
    "        i += 1\n",
    "\n",
    "loss, accuracy = testModel(temp_model, X_test, y_test)\n",
    "loss, accuracy = testModel(temp_model, train_data, train_label)"
   ]
  },
  {
   "cell_type": "code",
   "execution_count": 44,
   "metadata": {},
   "outputs": [
    {
     "name": "stdout",
     "output_type": "stream",
     "text": [
      "yy [12  6  3  0  6  6 13  0 12  8  7  7  7  3  7  0 10  7  6  2  2  4  1 10\n",
      "  1 11 10  3 13 12  1 11]\n",
      "tt [12  6  3  0  6  6 13  0 12  8  7  7  7  3  7  0 10  7  6  2  2  4  1 10\n",
      "  1 11 10  3 13 12  1 11]\n"
     ]
    },
    {
     "data": {
      "text/plain": [
       "32"
      ]
     },
     "execution_count": 44,
     "metadata": {},
     "output_type": "execute_result"
    }
   ],
   "source": [
    "i = 100\n",
    "j = 132\n",
    "# yy = model.predict(X_test[i:j], train_flg=False)\n",
    "yy = temp_model.predict(X_test[i:j], train_flg=False)\n",
    "yy = np.argmax(yy, axis=1)\n",
    "print('yy', yy)\n",
    "tt = y_test[i:j]\n",
    "tt = np.argmax(tt, axis=1)\n",
    "print('tt', tt)\n",
    "np.sum(yy == tt) "
   ]
  },
  {
   "cell_type": "code",
   "execution_count": null,
   "metadata": {},
   "outputs": [],
   "source": []
  },
  {
   "cell_type": "code",
   "execution_count": null,
   "metadata": {},
   "outputs": [],
   "source": []
  },
  {
   "cell_type": "code",
   "execution_count": null,
   "metadata": {},
   "outputs": [],
   "source": []
  },
  {
   "cell_type": "code",
   "execution_count": null,
   "metadata": {},
   "outputs": [],
   "source": []
  }
 ],
 "metadata": {
  "kernelspec": {
   "display_name": "Python 3 (ipykernel)",
   "language": "python",
   "name": "python3"
  },
  "language_info": {
   "codemirror_mode": {
    "name": "ipython",
    "version": 3
   },
   "file_extension": ".py",
   "mimetype": "text/x-python",
   "name": "python",
   "nbconvert_exporter": "python",
   "pygments_lexer": "ipython3",
   "version": "3.8.10"
  }
 },
 "nbformat": 4,
 "nbformat_minor": 4
}
