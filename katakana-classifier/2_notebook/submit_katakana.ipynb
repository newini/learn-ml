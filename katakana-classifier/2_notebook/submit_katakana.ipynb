{
 "cells": [
  {
   "cell_type": "markdown",
   "metadata": {},
   "source": [
    "# カタカナ15文字を自動識別するモデルの構築\n",
    "# 課題投稿用Notebook\n",
    "* これは課題投稿用ファイルです。\n",
    "* このsubmit_katakana.ipynbファイルを編集し、学習済みモデルなどの必要ファイルを同じフォルダにおき、そのフォルダをzipしたものを投稿してください。"
   ]
  },
  {
   "cell_type": "code",
   "execution_count": 9,
   "metadata": {},
   "outputs": [
    {
     "name": "stderr",
     "output_type": "stream",
     "text": [
      "v: 4: 100%|██████████████████████████████████████████████████████████████████████████| 4/4 [00:01<00:00,  3.96it/s]\n"
     ]
    }
   ],
   "source": [
    "from tqdm import tqdm\n",
    "from time import sleep\n",
    "pbar = tqdm([\"a\", \"b\", \"c\", \"d\"])\n",
    "v = 0\n",
    "for char in pbar:\n",
    "    v += 1\n",
    "    sleep(0.25)\n",
    "    pbar.set_description(f'v: {v}')"
   ]
  },
  {
   "cell_type": "code",
   "execution_count": 1,
   "metadata": {
    "scrolled": true
   },
   "outputs": [
    {
     "name": "stdout",
     "output_type": "stream",
     "text": [
      "0\n",
      "0.21008313655613392 0.966\n",
      "1\n",
      "0.2154216199277033 0.96\n",
      "2\n",
      "0.09880022225754731 0.98\n",
      "3\n",
      "0.18193948135453136 0.97\n",
      "4\n",
      "0.196523216565544 0.956\n",
      "5\n",
      "0.2421183234524076 0.958\n",
      "Test loss: 0.1908143333523112\n",
      "Test accuracy: 0.965\n"
     ]
    }
   ],
   "source": [
    "import numpy as np\n",
    "import glob\n",
    "import os,sys\n",
    "import util\n",
    "import pickle\n",
    "# %load_ext autoreload\n",
    "# %autoreload 2\n",
    "from common.model import Conv2DNN\n",
    "\n",
    "def makedataset():\n",
    "    \"\"\"\n",
    "    データセットをつくる関数です。\n",
    "    自由に編集してください。\n",
    "    \"\"\"\n",
    "    \n",
    "    # 次の行は変更しないこと\n",
    "    test_data = util.loaddata()\n",
    "    \n",
    "    # 以下は自由に編集しても構いません\n",
    "    # 必要な前処理をここに記述してください  \n",
    "    \n",
    "    # 正規化\n",
    "    test_data = test_data / test_data.max()\n",
    "    test_data = test_data.astype('float32')\n",
    "\n",
    "    # 配列形式変更\n",
    "    # test_data = test_data.reshape(test_data.shape[0], 28, 28, 1)\n",
    "\n",
    "    return test_data\n",
    "\n",
    "\n",
    "def func_predict(test_data, test_label):\n",
    "    \"\"\"\n",
    "    予測する関数\n",
    "    data : 画像データ\n",
    "    return loss, accuracy\n",
    "    引数とreturn以外は、自由に編集してください    \n",
    "    \"\"\"\n",
    "    # 以下を自由に編集してください\n",
    "    # with open(\"katakana_model.pickle\", \"rb\") as f:\n",
    "    #     model = pickle.load(f)\n",
    "    kwargs = {\n",
    "        'conv_param': {'filter_num': 64, 'filter_size': 3, 'pad': 0, 'stride': 1},\n",
    "        'pool_param': {'pool_size': 2, 'pad': 0, 'stride': 2},\n",
    "        'hidden_size': 64,\n",
    "        'learning_rate': 1e-3, 'epsilon': 1e-8, # Compile HP\n",
    "        'batch_size': 32, 'epochs': 100, 'patience': 4, # fit HP\n",
    "    }\n",
    "    model = Conv2DNN(\n",
    "        input_dim=test_data.shape[1:],\n",
    "        conv_param=kwargs['conv_param'],\n",
    "        pool_param=kwargs['pool_param'],\n",
    "        hidden_size=kwargs['hidden_size'],\n",
    "        output_size=15,\n",
    "        weight_init_std=0.01,\n",
    "    )\n",
    "    with open(\"katakana_model_params.pickle\", \"rb\") as f:\n",
    "        params = pickle.load(f)\n",
    "        for i, key in enumerate(['Conv1', 'Affine1', 'Affine2',]):\n",
    "            model.layers[key].W = params['W' + str(i+1)]\n",
    "            model.layers[key].b = params['b' + str(i+1)]\n",
    "            # model.params[key].W = params['W' + str(i+1)]\n",
    "            # model.params[key].b = params['b' + str(i+1)]\n",
    "    \n",
    "    X_test = test_data\n",
    "    y_test = test_label\n",
    "    \n",
    "    # calculate loss, accuracy\n",
    "    accuracy = model.accuracy(X_test, y_test)\n",
    "    loss  = model.loss(X_test, y_test)\n",
    "    \n",
    "    return loss, accuracy # 編集不可\n",
    "\n",
    "\n",
    "def main():\n",
    "    \"\"\"\n",
    "    編集しないでください。\n",
    "    \"\"\"\n",
    "    # テスト用データをつくる\n",
    "    test_data = makedataset()\n",
    "\n",
    "    # 予測し精度を算出する\n",
    "    util.accuracy(func_predict, test_data)\n",
    "    \n",
    "    return\n",
    "\n",
    "\n",
    "if __name__==\"__main__\":\n",
    "    main()"
   ]
  }
 ],
 "metadata": {
  "kernelspec": {
   "display_name": "Python 3 (ipykernel)",
   "language": "python",
   "name": "python3"
  },
  "language_info": {
   "codemirror_mode": {
    "name": "ipython",
    "version": 3
   },
   "file_extension": ".py",
   "mimetype": "text/x-python",
   "name": "python",
   "nbconvert_exporter": "python",
   "pygments_lexer": "ipython3",
   "version": "3.8.10"
  }
 },
 "nbformat": 4,
 "nbformat_minor": 4
}
