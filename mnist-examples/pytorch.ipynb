{
 "cells": [
  {
   "cell_type": "markdown",
   "id": "5aec7133-bc01-4c07-a668-6ad06d10cb3f",
   "metadata": {},
   "source": [
    "# Speed comparison of CPU vs. GPU on pytorch with MNIST"
   ]
  },
  {
   "cell_type": "markdown",
   "id": "b8b91f33-6988-476a-9aca-db578d5570da",
   "metadata": {
    "tags": []
   },
   "source": [
    "## 0. imports"
   ]
  },
  {
   "cell_type": "code",
   "execution_count": 53,
   "id": "edea6a23-11fd-4ba5-91b0-c2d0e9d3251f",
   "metadata": {},
   "outputs": [],
   "source": [
    "import time\n",
    "from livelossplot import PlotLosses\n",
    "import numpy as np\n",
    "from sklearn.model_selection import train_test_split\n",
    "import torch\n",
    "import torchvision"
   ]
  },
  {
   "cell_type": "markdown",
   "id": "d3dcf083-1de5-44b4-b315-6f1048203954",
   "metadata": {},
   "source": [
    "## 1. Data"
   ]
  },
  {
   "cell_type": "code",
   "execution_count": 59,
   "id": "23a448e5-a167-4914-9919-dc7a6eb5e0af",
   "metadata": {},
   "outputs": [],
   "source": [
    "# MNIST\n",
    "trainset = torchvision.datasets.MNIST(root=\".\", train=True, download=True, transform=torchvision.transforms.ToTensor())\n",
    "testset  = torchvision.datasets.MNIST(root=\".\", train=False, download=True, transform=torchvision.transforms.ToTensor())"
   ]
  },
  {
   "cell_type": "markdown",
   "id": "47b95d3b-450b-456a-b3a8-3268efbab398",
   "metadata": {},
   "source": [
    "## 3. Data preparation"
   ]
  },
  {
   "cell_type": "code",
   "execution_count": 58,
   "id": "843b228c-154a-4573-948e-74e1a9539e6b",
   "metadata": {},
   "outputs": [],
   "source": [
    "# torch.tensor -> numpy.array\n",
    "X_train = trainset.data.numpy()\n",
    "y_train = trainset.targets.numpy()\n",
    "X_test = testset.data.numpy()\n",
    "y_test = testset.targets.numpy()\n",
    "\n",
    "# scaled from [0,255] to [0,1] for X\n",
    "X_train = X_train / 255\n",
    "X_test  = X_test / 255\n",
    "\n",
    "X_train, X_valid, y_train, y_valid = train_test_split(\n",
    "    X_train, y_train, train_size=50000, random_state=0\n",
    ")\n",
    "\n",
    "# Reshape 28 x 28 --> 784\n",
    "X_train_flatten = X_train.reshape(50000, 28*28)\n",
    "X_valid_flatten = X_valid.reshape(10000, 28*28)\n",
    "X_test_flatten  = X_test.reshape(10000, 28*28)\n",
    "\n",
    "# np.array --> torch.tensor\n",
    "X_train_torch = torch.tensor(X_train_flatten, dtype=torch.float)\n",
    "X_valid_torch = torch.tensor(X_valid_flatten, dtype=torch.float)\n",
    "X_test_torch  = torch.tensor(X_test_flatten,  dtype=torch.float)\n",
    "\n",
    "y_train_torch = torch.tensor(y_train, dtype=torch.long)\n",
    "y_valid_torch = torch.tensor(y_valid, dtype=torch.long)\n",
    "y_test_torch  = torch.tensor(y_test,  dtype=torch.long)\n",
    "\n",
    "# create dataset (keep X vs. Y rate)\n",
    "train_dataset = torch.utils.data.TensorDataset(X_train_torch, y_train_torch)\n",
    "valid_dataset = torch.utils.data.TensorDataset(X_valid_torch, y_valid_torch)\n",
    "test_dataset  = torch.utils.data.TensorDataset(X_test_torch,  y_test_torch)\n",
    "\n",
    "batch_size = 256\n",
    "\n",
    "# Create dataloader (batch_size of X, Y)\n",
    "train_loader = torch.utils.data.DataLoader(train_dataset, batch_size=batch_size)\n",
    "valid_loader = torch.utils.data.DataLoader(valid_dataset, batch_size=batch_size)\n",
    "test_loader  = torch.utils.data.DataLoader(test_dataset,  batch_size=batch_size)"
   ]
  },
  {
   "cell_type": "markdown",
   "id": "eb0b8155-7473-475d-90e0-591ff4574f34",
   "metadata": {},
   "source": [
    "## 4. Model train"
   ]
  },
  {
   "cell_type": "markdown",
   "id": "744c1bd9-31a6-48ac-af2a-fc9456e20c54",
   "metadata": {},
   "source": [
    "### 4.1 define update model"
   ]
  },
  {
   "cell_type": "code",
   "execution_count": 54,
   "id": "68e331d9-2425-4960-aa23-6296f18b7135",
   "metadata": {},
   "outputs": [],
   "source": [
    "def update_model(model, loss_fn, opt, train_loader):\n",
    "    train_loss = 0\n",
    "    train_correct = 0\n",
    "    train_count = len(train_loader.dataset)\n",
    "\n",
    "    for X, y in train_loader:\n",
    "        y_pred = model(X) # Predict (before softmax)\n",
    "\n",
    "        _, predicted = torch.max(y_pred.data, 1) # Get max class\n",
    "        train_correct += (predicted == y).sum().item()\n",
    "\n",
    "        loss = loss_fn(y_pred, y)\n",
    "        train_loss += loss.item()*len(y)\n",
    "\n",
    "        # Update weight\n",
    "        opt.zero_grad()\n",
    "        loss.backward()\n",
    "        opt.step()\n",
    "\n",
    "    mean_train_loss = train_loss / train_count\n",
    "    train_accuracy = train_correct / train_count\n",
    "\n",
    "    return mean_train_loss, train_accuracy"
   ]
  },
  {
   "cell_type": "markdown",
   "id": "8fdd9bf7-cc65-4151-b7fb-8e03dd4670c0",
   "metadata": {},
   "source": [
    "### 4.2 define evaluate model"
   ]
  },
  {
   "cell_type": "code",
   "execution_count": 48,
   "id": "b1026a33-8e05-4be4-ba0c-fa661c789bcd",
   "metadata": {},
   "outputs": [],
   "source": [
    "def evaluate_model(model, loss_fn, dataloader):\n",
    "    model.eval() # be evalate mode\n",
    "\n",
    "    valid_loss = 0\n",
    "    valid_correct = 0\n",
    "    valid_count = len(dataloader.dataset)\n",
    "\n",
    "    for X, y in dataloader:\n",
    "        y_pred = model(X)\n",
    "\n",
    "        _, predicted = torch.max(y_pred.data, 1)\n",
    "        valid_correct += (predicted == y).sum().item()\n",
    "\n",
    "        loss = loss_fn(y_pred, y)\n",
    "        valid_loss += loss.item()*len(y)\n",
    "\n",
    "    mean_valid_loss = valid_loss / valid_count\n",
    "    valid_accuracy = valid_correct / valid_count\n",
    "\n",
    "    model.train() # Back to train mode\n",
    "    return mean_valid_loss, valid_accuracy"
   ]
  },
  {
   "cell_type": "markdown",
   "id": "237e3500-5bc9-47f3-97ba-5e4ce952c423",
   "metadata": {},
   "source": [
    "### 4.3 define train "
   ]
  },
  {
   "cell_type": "code",
   "execution_count": 49,
   "id": "265cb25e-89ce-4b69-91b5-10513d677de1",
   "metadata": {},
   "outputs": [],
   "source": [
    "def train(model, loss_fn, opt, train_loader, valid_loader, epoch=50):\n",
    "    liveloss = PlotLosses() # Init plot\n",
    "    for i in range(epoch):\n",
    "        train_loss, train_accuracy = update_model(model, loss_fn, opt, train_loader)\n",
    "        valid_loss, valid_accuracy = evaluate_model(model, loss_fn, valid_loader)\n",
    "\n",
    "        # Visualize the loss and accuracy values.\n",
    "        liveloss.update({\n",
    "            'log loss': train_loss,\n",
    "            'val_log loss': valid_loss,\n",
    "            'accuracy': train_accuracy,\n",
    "            'val_accuracy': valid_accuracy,\n",
    "        })\n",
    "        liveloss.draw()\n",
    "        print('Train accuracy: {:.4f}'.format(train_accuracy))\n",
    "        \n",
    "    print('Accuracy: {:.4f} (valid), {:.4f} (train)'.format(valid_accuracy, train_accuracy))\n",
    "    return model"
   ]
  },
  {
   "cell_type": "markdown",
   "id": "25bd5521-1da1-4ce5-91c9-210b6789c3f5",
   "metadata": {},
   "source": [
    "### 4.4 define model"
   ]
  },
  {
   "cell_type": "code",
   "execution_count": 50,
   "id": "db80e7b7-b5e6-475d-87cb-2a1f67cfc606",
   "metadata": {},
   "outputs": [],
   "source": [
    "torch.manual_seed(0)\n",
    "\n",
    "slp = torch.nn.Sequential(\n",
    "    torch.nn.Linear(28*28, 10) # 28 x 28 --> 10 classes\n",
    ")\n",
    "\n",
    "loss_fn = torch.nn.CrossEntropyLoss()\n",
    "optimizer = torch.optim.SGD(slp.parameters(), lr=0.1)"
   ]
  },
  {
   "cell_type": "markdown",
   "id": "80f8f62f-93ec-47a6-81e6-85fb9903a14e",
   "metadata": {},
   "source": [
    "### 4.5 training"
   ]
  },
  {
   "cell_type": "code",
   "execution_count": 30,
   "id": "bdc25a64-8b25-4f83-ae5f-52357cb985bc",
   "metadata": {},
   "outputs": [
    {
     "data": {
      "image/png": "[encoded data removed]",
      "text/plain": [
       "<Figure size 864x576 with 2 Axes>"
      ]
     },
     "metadata": {
      "needs_background": "light"
     },
     "output_type": "display_data"
    },
    {
     "name": "stdout",
     "output_type": "stream",
     "text": [
      "accuracy\n",
      "\ttraining         \t (min:    0.830, max:    0.925, cur:    0.925)\n",
      "\tvalidation       \t (min:    0.876, max:    0.924, cur:    0.924)\n",
      "log loss\n",
      "\ttraining         \t (min:    0.271, max:    0.764, cur:    0.271)\n",
      "\tvalidation       \t (min:    0.270, max:    0.490, cur:    0.270)\n",
      "Train accuracy: 0.9247\n",
      "Accuracy: 0.9240 (valid), 0.9247 (train)\n",
      "Execute time: 51 s\n"
     ]
    }
   ],
   "source": [
    "start_time = time.time()\n",
    "\n",
    "trained_model = train(slp, loss_fn, optimizer, train_loader, valid_loader)\n",
    "\n",
    "print('Executed time: %i s' % int(time.time() - start_time) )"
   ]
  },
  {
   "cell_type": "markdown",
   "id": "dc819789-aedb-4b41-b2dc-019c29ac1c5a",
   "metadata": {},
   "source": [
    "## 5. Model train with Cuda"
   ]
  },
  {
   "cell_type": "markdown",
   "id": "5b4dd342-c443-4ed8-acd5-427e5c623be0",
   "metadata": {},
   "source": [
    "### 5.0 Check GPU"
   ]
  },
  {
   "cell_type": "code",
   "execution_count": 51,
   "id": "1838e4b2-715f-4c01-8904-6daac0ac30ed",
   "metadata": {},
   "outputs": [
    {
     "name": "stdout",
     "output_type": "stream",
     "text": [
      "cuda:0\n"
     ]
    }
   ],
   "source": [
    "device = torch.device(\"cuda:0\" if torch.cuda.is_available() else \"cpu\")\n",
    "\n",
    "print(device)"
   ]
  },
  {
   "cell_type": "markdown",
   "id": "478a1e43-e783-4d20-90ea-22685690a820",
   "metadata": {},
   "source": [
    "### 5.1 define update model cuda"
   ]
  },
  {
   "cell_type": "code",
   "execution_count": 52,
   "id": "4f585531-3f2e-406c-87a2-acb2d6ef45f1",
   "metadata": {},
   "outputs": [],
   "source": [
    "def update_model_cuda(model, loss_fn, opt, train_loader):\n",
    "    train_loss = 0\n",
    "    train_correct = 0\n",
    "    train_count = len(train_loader.dataset)\n",
    "\n",
    "    for X, y in train_loader:\n",
    "        X = X.cuda() # Transfer data to GPU\n",
    "        y = y.cuda()\n",
    "        y_pred = model(X)\n",
    "\n",
    "        _, predicted = torch.max(y_pred.data, 1)\n",
    "        train_correct += (predicted == y).sum().item()\n",
    "\n",
    "        loss = loss_fn(y_pred, y)\n",
    "        train_loss += loss.item()*len(y)\n",
    "\n",
    "        # Uupdate weight\n",
    "        opt.zero_grad()\n",
    "        loss.backward()\n",
    "        opt.step()\n",
    "\n",
    "    mean_train_loss = train_loss / train_count\n",
    "    train_accuracy = train_correct / train_count\n",
    "\n",
    "    return mean_train_loss, train_accuracy"
   ]
  },
  {
   "cell_type": "markdown",
   "id": "41be8e63-a433-434c-9b51-906977545bdd",
   "metadata": {},
   "source": [
    "### 5.2 define evaluate model cuda"
   ]
  },
  {
   "cell_type": "code",
   "execution_count": 55,
   "id": "faa7946c-f00c-4bb4-a202-a861586fcceb",
   "metadata": {},
   "outputs": [],
   "source": [
    "def evaluate_model_cuda(model, loss_fn, dataloader):\n",
    "    model.eval()\n",
    "\n",
    "    valid_loss = 0\n",
    "    valid_correct = 0\n",
    "    valid_count = len(dataloader.dataset)\n",
    "\n",
    "    for X, y in dataloader:\n",
    "        X = X.cuda()\n",
    "        y = y.cuda()\n",
    "        y_pred = model(X)\n",
    "\n",
    "        _, predicted = torch.max(y_pred.data, 1)\n",
    "        valid_correct += (predicted == y).sum().item()\n",
    "\n",
    "        loss = loss_fn(y_pred, y)\n",
    "        valid_loss += loss.item()*len(y)\n",
    "\n",
    "    mean_valid_loss = valid_loss / valid_count\n",
    "    valid_accuracy = valid_correct / valid_count\n",
    "\n",
    "    model.train()\n",
    "    return mean_valid_loss, valid_accuracy"
   ]
  },
  {
   "cell_type": "markdown",
   "id": "9aafdd91-e150-468f-9875-c1eb4b56f7eb",
   "metadata": {},
   "source": [
    "### 5.3 define train cuda"
   ]
  },
  {
   "cell_type": "code",
   "execution_count": 57,
   "id": "a9e7890e-43f4-4179-812d-4b0d23765785",
   "metadata": {},
   "outputs": [],
   "source": [
    "def train_cuda(model, loss_fn, opt, train_loader, valid_loader, epoch=50):\n",
    "    liveloss = PlotLosses()\n",
    "    for i in range(epoch):\n",
    "        train_loss, train_accuracy = update_model_cuda(model, loss_fn, opt, train_loader)\n",
    "        valid_loss, valid_accuracy = evaluate_model_cuda(model, loss_fn, valid_loader)\n",
    "\n",
    "        # Visualize the loss and accuracy values.\n",
    "        liveloss.update({\n",
    "            'log loss': train_loss,\n",
    "            'val_log loss': valid_loss,\n",
    "            'accuracy': train_accuracy,\n",
    "            'val_accuracy': valid_accuracy,\n",
    "        })\n",
    "        liveloss.draw()\n",
    "        print('Train accuracy: {:.4f}'.format(train_accuracy))\n",
    "        \n",
    "    print('Accuracy: {:.4f} (valid), {:.4f} (train)'.format(valid_accuracy, train_accuracy))\n",
    "    return model"
   ]
  },
  {
   "cell_type": "markdown",
   "id": "c03c7e4d-7064-4dab-9c3b-440a4e292abe",
   "metadata": {},
   "source": [
    "### 5.4 define model cuda"
   ]
  },
  {
   "cell_type": "code",
   "execution_count": 56,
   "id": "b71d75d2-2657-4a72-9ae3-f180adcf726f",
   "metadata": {},
   "outputs": [],
   "source": [
    "torch.manual_seed(0)\n",
    "torch.backends.cudnn.deterministic = True # Fix calculate result on GPU\n",
    "\n",
    "slp_cuda = torch.nn.Sequential(\n",
    "    torch.nn.Linear(28*28, 10)\n",
    ")\n",
    "slp_cuda.cuda()\n",
    "\n",
    "loss_fn = torch.nn.CrossEntropyLoss()\n",
    "optimizer = torch.optim.SGD(slp.parameters(), lr=0.1)"
   ]
  },
  {
   "cell_type": "code",
   "execution_count": 43,
   "id": "609c9c26-a189-414b-b83c-7773f5f34c7e",
   "metadata": {},
   "outputs": [
    {
     "data": {
      "image/png": "[encoded data removed]",
      "text/plain": [
       "<Figure size 864x576 with 2 Axes>"
      ]
     },
     "metadata": {
      "needs_background": "light"
     },
     "output_type": "display_data"
    },
    {
     "name": "stdout",
     "output_type": "stream",
     "text": [
      "accuracy\n",
      "\ttraining         \t (min:    0.056, max:    0.056, cur:    0.056)\n",
      "\tvalidation       \t (min:    0.057, max:    0.057, cur:    0.057)\n",
      "log loss\n",
      "\ttraining         \t (min:    2.350, max:    2.350, cur:    2.350)\n",
      "\tvalidation       \t (min:    2.350, max:    2.350, cur:    2.350)\n",
      "Train accuracy: 0.0555\n",
      "Accuracy: 0.0565 (valid), 0.0555 (train)\n",
      "Execute time: 106 s\n"
     ]
    }
   ],
   "source": [
    "start_time = time.time()\n",
    "\n",
    "trained_model_cuda = train_cuda(slp_cuda, loss_fn, optimizer, train_loader, valid_loader)\n",
    "\n",
    "print('Execute time: %i s' % int(time.time() - start_time) )"
   ]
  }
 ],
 "metadata": {
  "kernelspec": {
   "display_name": "Python 3 (ipykernel)",
   "language": "python",
   "name": "python3"
  },
  "language_info": {
   "codemirror_mode": {
    "name": "ipython",
    "version": 3
   },
   "file_extension": ".py",
   "mimetype": "text/x-python",
   "name": "python",
   "nbconvert_exporter": "python",
   "pygments_lexer": "ipython3",
   "version": "3.8.10"
  }
 },
 "nbformat": 4,
 "nbformat_minor": 5
}
